{
  "cells": [
    {
      "cell_type": "code",
      "execution_count": null,
      "metadata": {
        "collapsed": false
      },
      "outputs": [],
      "source": [
        "%matplotlib inline"
      ]
    },
    {
      "cell_type": "markdown",
      "metadata": {},
      "source": [
        "\n# Slow example\n\nThis example also runs useless computations but mimics\na slow example by using the lazy versions of the calculator\nmodule.\n\nAthor: Nicolas Gensollen\n"
      ]
    },
    {
      "cell_type": "markdown",
      "metadata": {},
      "source": [
        "Load functions\n\n"
      ]
    },
    {
      "cell_type": "code",
      "execution_count": null,
      "metadata": {
        "collapsed": false
      },
      "outputs": [],
      "source": [
        "from toy_pkg.calculus import lazy_add, lazy_subtract"
      ]
    },
    {
      "cell_type": "markdown",
      "metadata": {},
      "source": [
        "Perform some relatively long computations\n\n"
      ]
    },
    {
      "cell_type": "code",
      "execution_count": null,
      "metadata": {
        "collapsed": false
      },
      "outputs": [],
      "source": [
        "# Perform 1 + 1 and sleep for 10 seconds...\nresult = lazy_add(1, 1, 10)\nprint(result)\n\n# Perform 10 - 7 and sleep for 10 seconds...\nresult = lazy_subtract(10, 7, 10)\nprint(result)\n\n# Perform 20 + 42 and sleeps for 30 seconds...\nprint(lazy_add(20, 42, 30))\n\n# Perform 2 - 4 and sleeps for 3 seconds...\nprint(lazy_subtract(2, 4, 3))\n\n# Perform 1 - 1 and sleeps for 3 seconds...\nprint(lazy_subtract(1, 1, 3))"
      ]
    }
  ],
  "metadata": {
    "kernelspec": {
      "display_name": "Python 3",
      "language": "python",
      "name": "python3"
    },
    "language_info": {
      "codemirror_mode": {
        "name": "ipython",
        "version": 3
      },
      "file_extension": ".py",
      "mimetype": "text/x-python",
      "name": "python",
      "nbconvert_exporter": "python",
      "pygments_lexer": "ipython3",
      "version": "3.8.13"
    }
  },
  "nbformat": 4,
  "nbformat_minor": 0
}